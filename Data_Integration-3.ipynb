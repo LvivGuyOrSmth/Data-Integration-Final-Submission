{
  "cells": [
    {
      "cell_type": "markdown",
      "source": [
        "#Methodology\n",
        "####1. Data Preprocessing\n",
        "* **Normalisation:** Scale numerical characteristics like temperature and humidity for standardised analysis.\n",
        "* **Data Cleaning:** Address missing values, fix inconsistencies, and guarantee data quality.\n",
        "* **Feature Engineering:** Construct new features, such seasonal trends or fire danger indices, from the data that already exists.\n",
        "---\n",
        "#### 2. A Strategy for Data Integration\n",
        "\n",
        "* **Schema Mapping:** Prepare data formats appropriate for analysis, guaranteeing interoperability across datasets.\n",
        "* **Data Transformation:** Align data from many sources (e.g., meteorological stations, geographic coordinates) into a consistent schema.\n",
        "* **Data Reconciliation:** Clear out ambiguities and guarantee data coherence for precise analysis.\n",
        "\n",
        "---\n",
        "####3. Mapreduce on Hadoop\n",
        "\n",
        "---\n",
        " #### 4. Implementation of Apache Spark\n",
        "\n",
        "* **Make use of Apache Spark** to improve data processing power:\n",
        "\n",
        "* Process and examine the dataset with **DataFrames**\n",
        "\n",
        "* Utilise machine learning techniques to forecast the likelihood of a fire by analysing past data and climatic variables.\n",
        "\n",
        "---\n",
        "####5.  Visualisation\n",
        "\n",
        "Show off the conclusions drawn from the dataset:\n",
        "To show patterns in the occurrence of fires, make time series charts or geographic heatmaps.\n",
        "Use interactive visualisations to present findings so that stakeholders may better comprehend them and make decisions.\n",
        "####6. Evaluation, Analysis & Illustration\n",
        "\n",
        "* Assess how well integrated data works:\n",
        "\n",
        ">> To find trends, seasonal patterns, and spatial relationships, do exploratory data analysis.\n",
        "\n",
        "\n",
        "---\n",
        "\n",
        "#### 5. Illustration\n",
        "\n",
        "\n",
        "\n"
      ],
      "metadata": {
        "id": "3PwyhgQIwBJk"
      }
    },
    {
      "cell_type": "markdown",
      "source": [
        "#Importing relevant libraries"
      ],
      "metadata": {
        "id": "tx5RXfvtkMDD"
      }
    },
    {
      "cell_type": "code",
      "source": [
        "!pip install pyspark\n",
        "import pandas as pd\n",
        "import numpy as np\n",
        "import matplotlib.pyplot as plt\n",
        "from sklearn.preprocessing import MinMaxScaler\n",
        "from pyspark.sql import SparkSession\n",
        "from pyspark.ml.regression import LinearRegression\n",
        "from pyspark.ml.feature import VectorAssembler\n",
        "\n",
        "\n",
        "\n"
      ],
      "metadata": {
        "id": "PmOQBBmlkSVV",
        "colab": {
          "base_uri": "https://localhost:8080/"
        },
        "outputId": "dfa10157-e9a0-4a2a-e03b-f6465a70e100"
      },
      "execution_count": 32,
      "outputs": [
        {
          "output_type": "stream",
          "name": "stdout",
          "text": [
            "Requirement already satisfied: pyspark in /usr/local/lib/python3.10/dist-packages (3.5.1)\n",
            "Requirement already satisfied: py4j==0.10.9.7 in /usr/local/lib/python3.10/dist-packages (from pyspark) (0.10.9.7)\n"
          ]
        }
      ]
    },
    {
      "cell_type": "markdown",
      "source": [
        "#Data Preprocessing"
      ],
      "metadata": {
        "id": "t6QZgaKWtCEb"
      }
    },
    {
      "cell_type": "markdown",
      "source": [
        "## Data Cleaning\n",
        "\n"
      ],
      "metadata": {
        "id": "Qg_RSsrC7a1O"
      }
    },
    {
      "cell_type": "code",
      "source": [
        "#loading the dataset and checking for null values\n",
        "df = pd.read_csv('forestfires.csv')\n",
        "df = df.round(1)\n",
        "\n",
        "print(df.head())\n",
        "print(df.isnull().sum())"
      ],
      "metadata": {
        "colab": {
          "base_uri": "https://localhost:8080/"
        },
        "id": "2fL_chZRl4UQ",
        "outputId": "78c990ad-49c7-4495-9e2f-9b7d17625cdb"
      },
      "execution_count": 33,
      "outputs": [
        {
          "output_type": "stream",
          "name": "stdout",
          "text": [
            "   X  Y month  day  FFMC   DMC     DC  ISI  temp  RH  wind  rain  area\n",
            "0  7  5   mar  fri  86.2  26.2   94.3  5.1   8.2  51   6.7   0.0   0.0\n",
            "1  7  4   oct  tue  90.6  35.4  669.1  6.7  18.0  33   0.9   0.0   0.0\n",
            "2  7  4   oct  sat  90.6  43.7  686.9  6.7  14.6  33   1.3   0.0   0.0\n",
            "3  8  6   mar  fri  91.7  33.3   77.5  9.0   8.3  97   4.0   0.2   0.0\n",
            "4  8  6   mar  sun  89.3  51.3  102.2  9.6  11.4  99   1.8   0.0   0.0\n",
            "X        0\n",
            "Y        0\n",
            "month    0\n",
            "day      0\n",
            "FFMC     0\n",
            "DMC      0\n",
            "DC       0\n",
            "ISI      0\n",
            "temp     0\n",
            "RH       0\n",
            "wind     0\n",
            "rain     0\n",
            "area     0\n",
            "dtype: int64\n"
          ]
        }
      ]
    },
    {
      "cell_type": "code",
      "source": [
        "#handling missing values if needed\n",
        "\n",
        "df['temp'].fillna(df['temp'].median(), inplace=True)\n",
        "df['RH'].fillna(df['RH'].median(), inplace=True)\n",
        "df['wind'].fillna(df['wind'].median(), inplace=True)\n",
        "df['rain'].fillna(df['rain'].median(), inplace=True)\n",
        "df['area'].fillna(0, inplace=True)"
      ],
      "metadata": {
        "id": "JVxnHVH-mlDG"
      },
      "execution_count": 34,
      "outputs": []
    },
    {
      "cell_type": "code",
      "source": [
        "#checking for consistencies of data types\n",
        "print(df.dtypes)"
      ],
      "metadata": {
        "colab": {
          "base_uri": "https://localhost:8080/"
        },
        "id": "IlT2ktgTmp_R",
        "outputId": "ddd8f348-3284-42c3-8bce-60623257fc1f"
      },
      "execution_count": 35,
      "outputs": [
        {
          "output_type": "stream",
          "name": "stdout",
          "text": [
            "X          int64\n",
            "Y          int64\n",
            "month     object\n",
            "day       object\n",
            "FFMC     float64\n",
            "DMC      float64\n",
            "DC       float64\n",
            "ISI      float64\n",
            "temp     float64\n",
            "RH         int64\n",
            "wind     float64\n",
            "rain     float64\n",
            "area     float64\n",
            "dtype: object\n"
          ]
        }
      ]
    },
    {
      "cell_type": "code",
      "source": [
        "#converting necessary columns tou 'category' type\n",
        "df['month'] = pd.Categorical(df['month'], categories=['jan', 'feb', 'mar', 'apr', 'may', 'jun', 'jul', 'aug', 'sep', 'oct', 'nov', 'dec'])\n",
        "df['day'] = pd.Categorical(df['day'], categories=['mon', 'tue', 'wed', 'thu', 'fri', 'sat', 'sun'])"
      ],
      "metadata": {
        "id": "VZJmL7Mum6GF"
      },
      "execution_count": 36,
      "outputs": []
    },
    {
      "cell_type": "code",
      "source": [
        "# Removing duplicates\n",
        "df.drop_duplicates(inplace=True)"
      ],
      "metadata": {
        "id": "-ZBYXsebq5bC"
      },
      "execution_count": 37,
      "outputs": []
    },
    {
      "cell_type": "code",
      "execution_count": 38,
      "metadata": {
        "colab": {
          "base_uri": "https://localhost:8080/",
          "height": 317
        },
        "id": "v1RxAnvsZeXg",
        "outputId": "0d0a2d69-6a55-4a4c-d840-036c6e7588d5"
      },
      "outputs": [
        {
          "output_type": "execute_result",
          "data": {
            "text/plain": [
              "                X           Y        FFMC         DMC          DC         ISI  \\\n",
              "count  513.000000  513.000000  513.000000  513.000000  513.000000  513.000000   \n",
              "mean     4.678363    4.300195   90.637427  110.989279  549.155166    9.023587   \n",
              "std      2.320059    1.230925    5.540920   64.191013  247.724594    4.575543   \n",
              "min      1.000000    2.000000   18.700000    1.100000    7.900000    0.000000   \n",
              "25%      3.000000    4.000000   90.200000   68.600000  440.900000    6.400000   \n",
              "50%      4.000000    4.000000   91.600000  108.300000  664.500000    8.400000   \n",
              "75%      7.000000    5.000000   92.900000  142.400000  713.900000   11.000000   \n",
              "max      9.000000    9.000000   96.200000  291.300000  860.600000   56.100000   \n",
              "\n",
              "             temp          RH        wind        rain         area  \n",
              "count  513.000000  513.000000  513.000000  513.000000   513.000000  \n",
              "mean    18.887524   44.348928    4.010526    0.021832    12.891618  \n",
              "std      5.828128   16.358803    1.796613    0.297107    63.891841  \n",
              "min      2.200000   15.000000    0.400000    0.000000     0.000000  \n",
              "25%     15.500000   33.000000    2.700000    0.000000     0.000000  \n",
              "50%     19.300000   42.000000    4.000000    0.000000     0.500000  \n",
              "75%     22.800000   53.000000    4.900000    0.000000     6.600000  \n",
              "max     33.300000  100.000000    9.400000    6.400000  1090.800000  "
            ],
            "text/html": [
              "\n",
              "  <div id=\"df-7f885123-a794-4502-b8ba-c29b12ee2ddd\" class=\"colab-df-container\">\n",
              "    <div>\n",
              "<style scoped>\n",
              "    .dataframe tbody tr th:only-of-type {\n",
              "        vertical-align: middle;\n",
              "    }\n",
              "\n",
              "    .dataframe tbody tr th {\n",
              "        vertical-align: top;\n",
              "    }\n",
              "\n",
              "    .dataframe thead th {\n",
              "        text-align: right;\n",
              "    }\n",
              "</style>\n",
              "<table border=\"1\" class=\"dataframe\">\n",
              "  <thead>\n",
              "    <tr style=\"text-align: right;\">\n",
              "      <th></th>\n",
              "      <th>X</th>\n",
              "      <th>Y</th>\n",
              "      <th>FFMC</th>\n",
              "      <th>DMC</th>\n",
              "      <th>DC</th>\n",
              "      <th>ISI</th>\n",
              "      <th>temp</th>\n",
              "      <th>RH</th>\n",
              "      <th>wind</th>\n",
              "      <th>rain</th>\n",
              "      <th>area</th>\n",
              "    </tr>\n",
              "  </thead>\n",
              "  <tbody>\n",
              "    <tr>\n",
              "      <th>count</th>\n",
              "      <td>513.000000</td>\n",
              "      <td>513.000000</td>\n",
              "      <td>513.000000</td>\n",
              "      <td>513.000000</td>\n",
              "      <td>513.000000</td>\n",
              "      <td>513.000000</td>\n",
              "      <td>513.000000</td>\n",
              "      <td>513.000000</td>\n",
              "      <td>513.000000</td>\n",
              "      <td>513.000000</td>\n",
              "      <td>513.000000</td>\n",
              "    </tr>\n",
              "    <tr>\n",
              "      <th>mean</th>\n",
              "      <td>4.678363</td>\n",
              "      <td>4.300195</td>\n",
              "      <td>90.637427</td>\n",
              "      <td>110.989279</td>\n",
              "      <td>549.155166</td>\n",
              "      <td>9.023587</td>\n",
              "      <td>18.887524</td>\n",
              "      <td>44.348928</td>\n",
              "      <td>4.010526</td>\n",
              "      <td>0.021832</td>\n",
              "      <td>12.891618</td>\n",
              "    </tr>\n",
              "    <tr>\n",
              "      <th>std</th>\n",
              "      <td>2.320059</td>\n",
              "      <td>1.230925</td>\n",
              "      <td>5.540920</td>\n",
              "      <td>64.191013</td>\n",
              "      <td>247.724594</td>\n",
              "      <td>4.575543</td>\n",
              "      <td>5.828128</td>\n",
              "      <td>16.358803</td>\n",
              "      <td>1.796613</td>\n",
              "      <td>0.297107</td>\n",
              "      <td>63.891841</td>\n",
              "    </tr>\n",
              "    <tr>\n",
              "      <th>min</th>\n",
              "      <td>1.000000</td>\n",
              "      <td>2.000000</td>\n",
              "      <td>18.700000</td>\n",
              "      <td>1.100000</td>\n",
              "      <td>7.900000</td>\n",
              "      <td>0.000000</td>\n",
              "      <td>2.200000</td>\n",
              "      <td>15.000000</td>\n",
              "      <td>0.400000</td>\n",
              "      <td>0.000000</td>\n",
              "      <td>0.000000</td>\n",
              "    </tr>\n",
              "    <tr>\n",
              "      <th>25%</th>\n",
              "      <td>3.000000</td>\n",
              "      <td>4.000000</td>\n",
              "      <td>90.200000</td>\n",
              "      <td>68.600000</td>\n",
              "      <td>440.900000</td>\n",
              "      <td>6.400000</td>\n",
              "      <td>15.500000</td>\n",
              "      <td>33.000000</td>\n",
              "      <td>2.700000</td>\n",
              "      <td>0.000000</td>\n",
              "      <td>0.000000</td>\n",
              "    </tr>\n",
              "    <tr>\n",
              "      <th>50%</th>\n",
              "      <td>4.000000</td>\n",
              "      <td>4.000000</td>\n",
              "      <td>91.600000</td>\n",
              "      <td>108.300000</td>\n",
              "      <td>664.500000</td>\n",
              "      <td>8.400000</td>\n",
              "      <td>19.300000</td>\n",
              "      <td>42.000000</td>\n",
              "      <td>4.000000</td>\n",
              "      <td>0.000000</td>\n",
              "      <td>0.500000</td>\n",
              "    </tr>\n",
              "    <tr>\n",
              "      <th>75%</th>\n",
              "      <td>7.000000</td>\n",
              "      <td>5.000000</td>\n",
              "      <td>92.900000</td>\n",
              "      <td>142.400000</td>\n",
              "      <td>713.900000</td>\n",
              "      <td>11.000000</td>\n",
              "      <td>22.800000</td>\n",
              "      <td>53.000000</td>\n",
              "      <td>4.900000</td>\n",
              "      <td>0.000000</td>\n",
              "      <td>6.600000</td>\n",
              "    </tr>\n",
              "    <tr>\n",
              "      <th>max</th>\n",
              "      <td>9.000000</td>\n",
              "      <td>9.000000</td>\n",
              "      <td>96.200000</td>\n",
              "      <td>291.300000</td>\n",
              "      <td>860.600000</td>\n",
              "      <td>56.100000</td>\n",
              "      <td>33.300000</td>\n",
              "      <td>100.000000</td>\n",
              "      <td>9.400000</td>\n",
              "      <td>6.400000</td>\n",
              "      <td>1090.800000</td>\n",
              "    </tr>\n",
              "  </tbody>\n",
              "</table>\n",
              "</div>\n",
              "    <div class=\"colab-df-buttons\">\n",
              "\n",
              "  <div class=\"colab-df-container\">\n",
              "    <button class=\"colab-df-convert\" onclick=\"convertToInteractive('df-7f885123-a794-4502-b8ba-c29b12ee2ddd')\"\n",
              "            title=\"Convert this dataframe to an interactive table.\"\n",
              "            style=\"display:none;\">\n",
              "\n",
              "  <svg xmlns=\"http://www.w3.org/2000/svg\" height=\"24px\" viewBox=\"0 -960 960 960\">\n",
              "    <path d=\"M120-120v-720h720v720H120Zm60-500h600v-160H180v160Zm220 220h160v-160H400v160Zm0 220h160v-160H400v160ZM180-400h160v-160H180v160Zm440 0h160v-160H620v160ZM180-180h160v-160H180v160Zm440 0h160v-160H620v160Z\"/>\n",
              "  </svg>\n",
              "    </button>\n",
              "\n",
              "  <style>\n",
              "    .colab-df-container {\n",
              "      display:flex;\n",
              "      gap: 12px;\n",
              "    }\n",
              "\n",
              "    .colab-df-convert {\n",
              "      background-color: #E8F0FE;\n",
              "      border: none;\n",
              "      border-radius: 50%;\n",
              "      cursor: pointer;\n",
              "      display: none;\n",
              "      fill: #1967D2;\n",
              "      height: 32px;\n",
              "      padding: 0 0 0 0;\n",
              "      width: 32px;\n",
              "    }\n",
              "\n",
              "    .colab-df-convert:hover {\n",
              "      background-color: #E2EBFA;\n",
              "      box-shadow: 0px 1px 2px rgba(60, 64, 67, 0.3), 0px 1px 3px 1px rgba(60, 64, 67, 0.15);\n",
              "      fill: #174EA6;\n",
              "    }\n",
              "\n",
              "    .colab-df-buttons div {\n",
              "      margin-bottom: 4px;\n",
              "    }\n",
              "\n",
              "    [theme=dark] .colab-df-convert {\n",
              "      background-color: #3B4455;\n",
              "      fill: #D2E3FC;\n",
              "    }\n",
              "\n",
              "    [theme=dark] .colab-df-convert:hover {\n",
              "      background-color: #434B5C;\n",
              "      box-shadow: 0px 1px 3px 1px rgba(0, 0, 0, 0.15);\n",
              "      filter: drop-shadow(0px 1px 2px rgba(0, 0, 0, 0.3));\n",
              "      fill: #FFFFFF;\n",
              "    }\n",
              "  </style>\n",
              "\n",
              "    <script>\n",
              "      const buttonEl =\n",
              "        document.querySelector('#df-7f885123-a794-4502-b8ba-c29b12ee2ddd button.colab-df-convert');\n",
              "      buttonEl.style.display =\n",
              "        google.colab.kernel.accessAllowed ? 'block' : 'none';\n",
              "\n",
              "      async function convertToInteractive(key) {\n",
              "        const element = document.querySelector('#df-7f885123-a794-4502-b8ba-c29b12ee2ddd');\n",
              "        const dataTable =\n",
              "          await google.colab.kernel.invokeFunction('convertToInteractive',\n",
              "                                                    [key], {});\n",
              "        if (!dataTable) return;\n",
              "\n",
              "        const docLinkHtml = 'Like what you see? Visit the ' +\n",
              "          '<a target=\"_blank\" href=https://colab.research.google.com/notebooks/data_table.ipynb>data table notebook</a>'\n",
              "          + ' to learn more about interactive tables.';\n",
              "        element.innerHTML = '';\n",
              "        dataTable['output_type'] = 'display_data';\n",
              "        await google.colab.output.renderOutput(dataTable, element);\n",
              "        const docLink = document.createElement('div');\n",
              "        docLink.innerHTML = docLinkHtml;\n",
              "        element.appendChild(docLink);\n",
              "      }\n",
              "    </script>\n",
              "  </div>\n",
              "\n",
              "\n",
              "<div id=\"df-871ff6dd-87f3-4b0c-9b0d-aeb438c4c256\">\n",
              "  <button class=\"colab-df-quickchart\" onclick=\"quickchart('df-871ff6dd-87f3-4b0c-9b0d-aeb438c4c256')\"\n",
              "            title=\"Suggest charts\"\n",
              "            style=\"display:none;\">\n",
              "\n",
              "<svg xmlns=\"http://www.w3.org/2000/svg\" height=\"24px\"viewBox=\"0 0 24 24\"\n",
              "     width=\"24px\">\n",
              "    <g>\n",
              "        <path d=\"M19 3H5c-1.1 0-2 .9-2 2v14c0 1.1.9 2 2 2h14c1.1 0 2-.9 2-2V5c0-1.1-.9-2-2-2zM9 17H7v-7h2v7zm4 0h-2V7h2v10zm4 0h-2v-4h2v4z\"/>\n",
              "    </g>\n",
              "</svg>\n",
              "  </button>\n",
              "\n",
              "<style>\n",
              "  .colab-df-quickchart {\n",
              "      --bg-color: #E8F0FE;\n",
              "      --fill-color: #1967D2;\n",
              "      --hover-bg-color: #E2EBFA;\n",
              "      --hover-fill-color: #174EA6;\n",
              "      --disabled-fill-color: #AAA;\n",
              "      --disabled-bg-color: #DDD;\n",
              "  }\n",
              "\n",
              "  [theme=dark] .colab-df-quickchart {\n",
              "      --bg-color: #3B4455;\n",
              "      --fill-color: #D2E3FC;\n",
              "      --hover-bg-color: #434B5C;\n",
              "      --hover-fill-color: #FFFFFF;\n",
              "      --disabled-bg-color: #3B4455;\n",
              "      --disabled-fill-color: #666;\n",
              "  }\n",
              "\n",
              "  .colab-df-quickchart {\n",
              "    background-color: var(--bg-color);\n",
              "    border: none;\n",
              "    border-radius: 50%;\n",
              "    cursor: pointer;\n",
              "    display: none;\n",
              "    fill: var(--fill-color);\n",
              "    height: 32px;\n",
              "    padding: 0;\n",
              "    width: 32px;\n",
              "  }\n",
              "\n",
              "  .colab-df-quickchart:hover {\n",
              "    background-color: var(--hover-bg-color);\n",
              "    box-shadow: 0 1px 2px rgba(60, 64, 67, 0.3), 0 1px 3px 1px rgba(60, 64, 67, 0.15);\n",
              "    fill: var(--button-hover-fill-color);\n",
              "  }\n",
              "\n",
              "  .colab-df-quickchart-complete:disabled,\n",
              "  .colab-df-quickchart-complete:disabled:hover {\n",
              "    background-color: var(--disabled-bg-color);\n",
              "    fill: var(--disabled-fill-color);\n",
              "    box-shadow: none;\n",
              "  }\n",
              "\n",
              "  .colab-df-spinner {\n",
              "    border: 2px solid var(--fill-color);\n",
              "    border-color: transparent;\n",
              "    border-bottom-color: var(--fill-color);\n",
              "    animation:\n",
              "      spin 1s steps(1) infinite;\n",
              "  }\n",
              "\n",
              "  @keyframes spin {\n",
              "    0% {\n",
              "      border-color: transparent;\n",
              "      border-bottom-color: var(--fill-color);\n",
              "      border-left-color: var(--fill-color);\n",
              "    }\n",
              "    20% {\n",
              "      border-color: transparent;\n",
              "      border-left-color: var(--fill-color);\n",
              "      border-top-color: var(--fill-color);\n",
              "    }\n",
              "    30% {\n",
              "      border-color: transparent;\n",
              "      border-left-color: var(--fill-color);\n",
              "      border-top-color: var(--fill-color);\n",
              "      border-right-color: var(--fill-color);\n",
              "    }\n",
              "    40% {\n",
              "      border-color: transparent;\n",
              "      border-right-color: var(--fill-color);\n",
              "      border-top-color: var(--fill-color);\n",
              "    }\n",
              "    60% {\n",
              "      border-color: transparent;\n",
              "      border-right-color: var(--fill-color);\n",
              "    }\n",
              "    80% {\n",
              "      border-color: transparent;\n",
              "      border-right-color: var(--fill-color);\n",
              "      border-bottom-color: var(--fill-color);\n",
              "    }\n",
              "    90% {\n",
              "      border-color: transparent;\n",
              "      border-bottom-color: var(--fill-color);\n",
              "    }\n",
              "  }\n",
              "</style>\n",
              "\n",
              "  <script>\n",
              "    async function quickchart(key) {\n",
              "      const quickchartButtonEl =\n",
              "        document.querySelector('#' + key + ' button');\n",
              "      quickchartButtonEl.disabled = true;  // To prevent multiple clicks.\n",
              "      quickchartButtonEl.classList.add('colab-df-spinner');\n",
              "      try {\n",
              "        const charts = await google.colab.kernel.invokeFunction(\n",
              "            'suggestCharts', [key], {});\n",
              "      } catch (error) {\n",
              "        console.error('Error during call to suggestCharts:', error);\n",
              "      }\n",
              "      quickchartButtonEl.classList.remove('colab-df-spinner');\n",
              "      quickchartButtonEl.classList.add('colab-df-quickchart-complete');\n",
              "    }\n",
              "    (() => {\n",
              "      let quickchartButtonEl =\n",
              "        document.querySelector('#df-871ff6dd-87f3-4b0c-9b0d-aeb438c4c256 button');\n",
              "      quickchartButtonEl.style.display =\n",
              "        google.colab.kernel.accessAllowed ? 'block' : 'none';\n",
              "    })();\n",
              "  </script>\n",
              "</div>\n",
              "\n",
              "    </div>\n",
              "  </div>\n"
            ],
            "application/vnd.google.colaboratory.intrinsic+json": {
              "type": "dataframe",
              "summary": "{\n  \"name\": \"df\",\n  \"rows\": 8,\n  \"fields\": [\n    {\n      \"column\": \"X\",\n      \"properties\": {\n        \"dtype\": \"number\",\n        \"std\": 179.8255044553923,\n        \"min\": 1.0,\n        \"max\": 513.0,\n        \"num_unique_values\": 8,\n        \"samples\": [\n          4.678362573099415,\n          4.0,\n          513.0\n        ],\n        \"semantic_type\": \"\",\n        \"description\": \"\"\n      }\n    },\n    {\n      \"column\": \"Y\",\n      \"properties\": {\n        \"dtype\": \"number\",\n        \"std\": 179.89620216515866,\n        \"min\": 1.230924751224618,\n        \"max\": 513.0,\n        \"num_unique_values\": 7,\n        \"samples\": [\n          513.0,\n          4.300194931773879,\n          5.0\n        ],\n        \"semantic_type\": \"\",\n        \"description\": \"\"\n      }\n    },\n    {\n      \"column\": \"FFMC\",\n      \"properties\": {\n        \"dtype\": \"number\",\n        \"std\": 161.01517743838673,\n        \"min\": 5.540920466513489,\n        \"max\": 513.0,\n        \"num_unique_values\": 8,\n        \"samples\": [\n          90.6374269005848,\n          91.6,\n          513.0\n        ],\n        \"semantic_type\": \"\",\n        \"description\": \"\"\n      }\n    },\n    {\n      \"column\": \"DMC\",\n      \"properties\": {\n        \"dtype\": \"number\",\n        \"std\": 164.7363779715237,\n        \"min\": 1.1,\n        \"max\": 513.0,\n        \"num_unique_values\": 8,\n        \"samples\": [\n          110.98927875243665,\n          108.3,\n          513.0\n        ],\n        \"semantic_type\": \"\",\n        \"description\": \"\"\n      }\n    },\n    {\n      \"column\": \"DC\",\n      \"properties\": {\n        \"dtype\": \"number\",\n        \"std\": 271.16902418187505,\n        \"min\": 7.9,\n        \"max\": 860.6,\n        \"num_unique_values\": 8,\n        \"samples\": [\n          549.1551656920077,\n          664.5,\n          513.0\n        ],\n        \"semantic_type\": \"\",\n        \"description\": \"\"\n      }\n    },\n    {\n      \"column\": \"ISI\",\n      \"properties\": {\n        \"dtype\": \"number\",\n        \"std\": 177.42893620931474,\n        \"min\": 0.0,\n        \"max\": 513.0,\n        \"num_unique_values\": 8,\n        \"samples\": [\n          9.023586744639376,\n          8.4,\n          513.0\n        ],\n        \"semantic_type\": \"\",\n        \"description\": \"\"\n      }\n    },\n    {\n      \"column\": \"temp\",\n      \"properties\": {\n        \"dtype\": \"number\",\n        \"std\": 175.6884284794742,\n        \"min\": 2.2,\n        \"max\": 513.0,\n        \"num_unique_values\": 8,\n        \"samples\": [\n          18.887524366471734,\n          19.3,\n          513.0\n        ],\n        \"semantic_type\": \"\",\n        \"description\": \"\"\n      }\n    },\n    {\n      \"column\": \"RH\",\n      \"properties\": {\n        \"dtype\": \"number\",\n        \"std\": 168.14704370271818,\n        \"min\": 15.0,\n        \"max\": 513.0,\n        \"num_unique_values\": 8,\n        \"samples\": [\n          44.34892787524367,\n          42.0,\n          513.0\n        ],\n        \"semantic_type\": \"\",\n        \"description\": \"\"\n      }\n    },\n    {\n      \"column\": \"wind\",\n      \"properties\": {\n        \"dtype\": \"number\",\n        \"std\": 180.01831770054693,\n        \"min\": 0.4,\n        \"max\": 513.0,\n        \"num_unique_values\": 8,\n        \"samples\": [\n          4.010526315789474,\n          4.0,\n          513.0\n        ],\n        \"semantic_type\": \"\",\n        \"description\": \"\"\n      }\n    },\n    {\n      \"column\": \"rain\",\n      \"properties\": {\n        \"dtype\": \"number\",\n        \"std\": 181.0471827970963,\n        \"min\": 0.0,\n        \"max\": 513.0,\n        \"num_unique_values\": 5,\n        \"samples\": [\n          0.021832358674463936,\n          6.4,\n          0.29710674370332985\n        ],\n        \"semantic_type\": \"\",\n        \"description\": \"\"\n      }\n    },\n    {\n      \"column\": \"area\",\n      \"properties\": {\n        \"dtype\": \"number\",\n        \"std\": 396.6415040396083,\n        \"min\": 0.0,\n        \"max\": 1090.8,\n        \"num_unique_values\": 7,\n        \"samples\": [\n          513.0,\n          12.891617933723197,\n          6.6\n        ],\n        \"semantic_type\": \"\",\n        \"description\": \"\"\n      }\n    }\n  ]\n}"
            }
          },
          "metadata": {},
          "execution_count": 38
        }
      ],
      "source": [
        "#final data cleaning check\n",
        "df.describe()"
      ]
    },
    {
      "cell_type": "markdown",
      "source": [
        "These steps ensure that the dataset checks for and handles missing values if necessary, converts data types for consistency, and removes potential duplicates. While this structured approach is necessary, the dataset turned out to be well put-together and cleaner, than expected."
      ],
      "metadata": {
        "id": "6v4YW5glqcFZ"
      }
    },
    {
      "cell_type": "markdown",
      "metadata": {
        "id": "IBRY79KnHD3w"
      },
      "source": [
        "##Normalization\n",
        "\n"
      ]
    },
    {
      "cell_type": "code",
      "execution_count": 39,
      "metadata": {
        "colab": {
          "base_uri": "https://localhost:8080/"
        },
        "id": "_xjPjPt3cOOK",
        "outputId": "906178b5-f1fc-41a4-cf8d-8ae3fff7c90e"
      },
      "outputs": [
        {
          "output_type": "stream",
          "name": "stdout",
          "text": [
            "   X  Y month  day  FFMC   DMC     DC  ISI      temp        RH      wind  \\\n",
            "0  7  5   mar  fri  86.2  26.2   94.3  5.1  0.192926  0.423529  0.700000   \n",
            "1  7  4   oct  tue  90.6  35.4  669.1  6.7  0.508039  0.211765  0.055556   \n",
            "2  7  4   oct  sat  90.6  43.7  686.9  6.7  0.398714  0.211765  0.100000   \n",
            "3  8  6   mar  fri  91.7  33.3   77.5  9.0  0.196141  0.964706  0.400000   \n",
            "4  8  6   mar  sun  89.3  51.3  102.2  9.6  0.295820  0.988235  0.155556   \n",
            "\n",
            "      rain  area  \n",
            "0  0.00000   0.0  \n",
            "1  0.00000   0.0  \n",
            "2  0.00000   0.0  \n",
            "3  0.03125   0.0  \n",
            "4  0.00000   0.0  \n"
          ]
        }
      ],
      "source": [
        "#normalizing necessary data  using MinMaxScaler\n",
        "columns_to_normalize = ['temp', 'RH', 'wind', 'rain', 'area']\n",
        "scaler = MinMaxScaler()\n",
        "df[columns_to_normalize] = scaler.fit_transform(df[columns_to_normalize])\n",
        "print(df.head())\n"
      ]
    },
    {
      "cell_type": "markdown",
      "metadata": {
        "id": "2l1lntOuIywQ"
      },
      "source": [
        "In this normalized dataset:\n",
        "\n",
        "* Numerical columns like 'temp', 'RH', 'wind', 'rain', and 'area' have been scaled to a range between 0 and 1.\n",
        "* This scaling ensures that all numerical features are on a comparable scale, which is beneficial for various machine learning algorithms and statistical analyses.\n",
        "* You can proceed with further analysis or modeling using this normalized dataset in your project. If you have any more questions or need additional assistance, feel free to ask!"
      ]
    },
    {
      "cell_type": "markdown",
      "source": [
        "## Feature Engineering"
      ],
      "metadata": {
        "id": "M7TFk1WGtYwm"
      }
    },
    {
      "cell_type": "code",
      "source": [
        "#extracting numberical month and day of week\n",
        "df['month_num'] = df['month'].cat.codes + 1\n",
        "df['day_num'] = df['day'].cat.codes + 1"
      ],
      "metadata": {
        "id": "LI7bZwrBuPmx"
      },
      "execution_count": 40,
      "outputs": []
    },
    {
      "cell_type": "code",
      "source": [
        "#adding seasonal features\n",
        "def get_season(month):\n",
        "    if month in [12, 1, 2]:\n",
        "        return 'winter'\n",
        "    elif month in [3, 4, 5]:\n",
        "        return 'spring'\n",
        "    elif month in [6, 7, 8]:\n",
        "        return 'summer'\n",
        "    else:\n",
        "        return 'fall'\n",
        "df['season'] = df['month_num'].apply(get_season)"
      ],
      "metadata": {
        "id": "2V1BhS3SuREQ"
      },
      "execution_count": 41,
      "outputs": []
    },
    {
      "cell_type": "code",
      "source": [
        "#Engineering Fire Danger Index (FDI)\n",
        "df['FDI'] = (df['FFMC'] * df['DMC'] * df['DC']) / (10 * df['ISI'])"
      ],
      "metadata": {
        "id": "BRLzWbxBuieV"
      },
      "execution_count": 42,
      "outputs": []
    },
    {
      "cell_type": "code",
      "source": [
        "#Temperature and wind interactiveness\n",
        "df['temp_wind_interaction'] = df['temp'] * df['wind']"
      ],
      "metadata": {
        "id": "wpKQE0ELun3H"
      },
      "execution_count": 43,
      "outputs": []
    },
    {
      "cell_type": "code",
      "source": [
        "# Log transforming 'area' to log to handle skewness\n",
        "df['log_area'] = df['area'].apply(lambda x: np.log(x + 1))"
      ],
      "metadata": {
        "id": "ZXZJonwMvKdh"
      },
      "execution_count": 44,
      "outputs": []
    },
    {
      "cell_type": "code",
      "source": [
        "#saving processed datased as a new csv file\n",
        "df.to_csv('processed_forestfires.csv', index=False)\n",
        "print(\"Processed dataset saved successfully.\")"
      ],
      "metadata": {
        "colab": {
          "base_uri": "https://localhost:8080/"
        },
        "id": "qWgIk-D7veGe",
        "outputId": "269db254-f21b-4498-8aff-1ad635ee84a7"
      },
      "execution_count": 45,
      "outputs": [
        {
          "output_type": "stream",
          "name": "stdout",
          "text": [
            "Processed dataset saved successfully.\n"
          ]
        }
      ]
    },
    {
      "cell_type": "code",
      "execution_count": 46,
      "metadata": {
        "id": "z6jYGqk2cQ-9",
        "colab": {
          "base_uri": "https://localhost:8080/"
        },
        "outputId": "e4934a82-97d5-4574-e38b-9a94921b8505"
      },
      "outputs": [
        {
          "output_type": "stream",
          "name": "stdout",
          "text": [
            "   X  Y month  day  FFMC   DMC     DC  ISI      temp        RH      wind  \\\n",
            "0  7  5   mar  fri  86.2  26.2   94.3  5.1  0.192926  0.423529  0.700000   \n",
            "1  7  4   oct  tue  90.6  35.4  669.1  6.7  0.508039  0.211765  0.055556   \n",
            "2  7  4   oct  sat  90.6  43.7  686.9  6.7  0.398714  0.211765  0.100000   \n",
            "3  8  6   mar  fri  91.7  33.3   77.5  9.0  0.196141  0.964706  0.400000   \n",
            "4  8  6   mar  sun  89.3  51.3  102.2  9.6  0.295820  0.988235  0.155556   \n",
            "\n",
            "      rain  area  month_num  day_num  season           FDI  \\\n",
            "0  0.00000   0.0          3        5  spring   4175.899843   \n",
            "1  0.00000   0.0         10        2    fall  32029.317672   \n",
            "2  0.00000   0.0         10        6    fall  40590.868925   \n",
            "3  0.03125   0.0          3        5  spring   2629.497500   \n",
            "4  0.00000   0.0          3        7  spring   4876.952062   \n",
            "\n",
            "   temp_wind_interaction  log_area  \n",
            "0               0.135048       0.0  \n",
            "1               0.028224       0.0  \n",
            "2               0.039871       0.0  \n",
            "3               0.078457       0.0  \n",
            "4               0.046016       0.0  \n",
            "                X           Y        FFMC         DMC          DC         ISI  \\\n",
            "count  513.000000  513.000000  513.000000  513.000000  513.000000  513.000000   \n",
            "mean     4.678363    4.300195   90.637427  110.989279  549.155166    9.023587   \n",
            "std      2.320059    1.230925    5.540920   64.191013  247.724594    4.575543   \n",
            "min      1.000000    2.000000   18.700000    1.100000    7.900000    0.000000   \n",
            "25%      3.000000    4.000000   90.200000   68.600000  440.900000    6.400000   \n",
            "50%      4.000000    4.000000   91.600000  108.300000  664.500000    8.400000   \n",
            "75%      7.000000    5.000000   92.900000  142.400000  713.900000   11.000000   \n",
            "max      9.000000    9.000000   96.200000  291.300000  860.600000   56.100000   \n",
            "\n",
            "             temp          RH        wind        rain        area   month_num  \\\n",
            "count  513.000000  513.000000  513.000000  513.000000  513.000000  513.000000   \n",
            "mean     0.536576    0.345282    0.401170    0.003411    0.011818    7.485380   \n",
            "std      0.187400    0.192457    0.199624    0.046423    0.058573    2.275095   \n",
            "min      0.000000    0.000000    0.000000    0.000000    0.000000    1.000000   \n",
            "25%      0.427653    0.211765    0.255556    0.000000    0.000000    7.000000   \n",
            "50%      0.549839    0.317647    0.400000    0.000000    0.000458    8.000000   \n",
            "75%      0.662379    0.447059    0.500000    0.000000    0.006051    9.000000   \n",
            "max      1.000000    1.000000    1.000000    1.000000    1.000000   12.000000   \n",
            "\n",
            "          day_num           FDI  temp_wind_interaction    log_area  \n",
            "count  513.000000  5.130000e+02             513.000000  513.000000  \n",
            "mean     4.251462           inf               0.206760    0.010583  \n",
            "std      2.075038           NaN               0.115514    0.044369  \n",
            "min      1.000000  5.545800e+01               0.000000    0.000000  \n",
            "25%      2.000000  3.352361e+04               0.120257    0.000000  \n",
            "50%      5.000000  7.078720e+04               0.193569    0.000458  \n",
            "75%      6.000000  1.094578e+05               0.282244    0.006032  \n",
            "max      7.000000           inf               0.659164    0.693147  \n"
          ]
        }
      ],
      "source": [
        "#opening and checking the processed dataset\n",
        "df_processed = pd.read_csv('processed_forestfires.csv')\n",
        "print(df_processed.head())\n",
        "print(df_processed.describe())"
      ]
    },
    {
      "cell_type": "markdown",
      "source": [
        "## Overall Summary\n",
        "\n",
        "1. Inidividual Data Rows\n",
        "The first tables presents the data as a whole, displaying the first number of rows. We can observe important information such as Fire Weather Index(FWI) components,recorded temperature, wind, precipitation. This is a preview of our cleaned dataset.\n",
        "\n",
        "2. Descriptive Statistics\n",
        "\n",
        "The second table gives us more insight about data, which is more technical and numerical, each having their own thresholds and measuring scales. For instance, trends of high FFMC, relatively high DC values, and other values show that these regions are not rainy and have low moisture, thus being much more prone to fires.\n",
        "\n",
        "3. Data Rundown\n",
        "\n",
        "This table serves to provide a more detailed view of the dataset thanks to our previous feature engineering. We can derive interesting facts, such as mean temperature levels(18.89C), RH percentages, mean wind speed(4.01), as well as an average of the area affed by the fires(12.89h), clearly showing that the majority of data are notable outliers.\n"
      ],
      "metadata": {
        "id": "mV_d13zgv6nR"
      }
    },
    {
      "cell_type": "markdown",
      "source": [
        "#Data Integration Strategy"
      ],
      "metadata": {
        "id": "Z69r0KyE9_uW"
      }
    },
    {
      "cell_type": "markdown",
      "source": [
        "##Schema Mapping\n",
        "\n",
        "Schema mapping ensures consistency in column names and types. Since we have a single dataset, this step is not necessary but still could be a good addition if a new dataset needs to be added.\n",
        "\n"
      ],
      "metadata": {
        "id": "WLAx-nLA5pjD"
      }
    },
    {
      "cell_type": "code",
      "source": [
        "#loading processed dataset\n",
        "df = pd.read_csv('processed_forestfires.csv')"
      ],
      "metadata": {
        "id": "3NbssDyB-w6D"
      },
      "execution_count": 47,
      "outputs": []
    },
    {
      "cell_type": "code",
      "source": [
        "#reviewing current column names\n",
        "print(\"Original Columns:\", df.columns)"
      ],
      "metadata": {
        "colab": {
          "base_uri": "https://localhost:8080/"
        },
        "id": "mDmMSIHV-2iQ",
        "outputId": "808de63c-959a-4048-fdcd-68eb4421f4e4"
      },
      "execution_count": 48,
      "outputs": [
        {
          "output_type": "stream",
          "name": "stdout",
          "text": [
            "Original Columns: Index(['X', 'Y', 'month', 'day', 'FFMC', 'DMC', 'DC', 'ISI', 'temp', 'RH',\n",
            "       'wind', 'rain', 'area', 'month_num', 'day_num', 'season', 'FDI',\n",
            "       'temp_wind_interaction', 'log_area'],\n",
            "      dtype='object')\n"
          ]
        }
      ]
    },
    {
      "cell_type": "code",
      "source": [
        "# Confirm updated column names\n",
        "print(\"Updated Columns:\", df.columns)"
      ],
      "metadata": {
        "colab": {
          "base_uri": "https://localhost:8080/"
        },
        "id": "O46cTgNMAhVr",
        "outputId": "a6180b22-76d7-4e17-d678-0809f8f73825"
      },
      "execution_count": 49,
      "outputs": [
        {
          "output_type": "stream",
          "name": "stdout",
          "text": [
            "Updated Columns: Index(['X', 'Y', 'month', 'day', 'FFMC', 'DMC', 'DC', 'ISI', 'temp', 'RH',\n",
            "       'wind', 'rain', 'area', 'month_num', 'day_num', 'season', 'FDI',\n",
            "       'temp_wind_interaction', 'log_area'],\n",
            "      dtype='object')\n"
          ]
        }
      ]
    },
    {
      "cell_type": "markdown",
      "source": [
        "##Data Transformation\n",
        "\n",
        "Data transformation si a great way to prepare a dataset for analysis by clustering data with the use of the aggregating pandas feature. I have chosen to agg. the data by season in order to attempt identifying new patterns.\n",
        "\n",
        "\n"
      ],
      "metadata": {
        "id": "sq-Oe5zM5rt4"
      }
    },
    {
      "cell_type": "code",
      "source": [
        "#Clustering data by season\n",
        "seasonal_agg = df.groupby('season').agg({\n",
        "    'temp': 'mean',\n",
        "    'RH': 'mean',\n",
        "    'wind': 'mean',\n",
        "    'rain': 'sum',\n",
        "    'area': 'sum'\n",
        "}).reset_index()"
      ],
      "metadata": {
        "id": "NFBXzcrfAqMP"
      },
      "execution_count": 50,
      "outputs": []
    },
    {
      "cell_type": "code",
      "source": [
        "#Now printing new results\n",
        "print(\"Seasonal Aggregated Data:\")\n",
        "print(seasonal_agg.head())"
      ],
      "metadata": {
        "colab": {
          "base_uri": "https://localhost:8080/"
        },
        "id": "fHwBrk21BcnX",
        "outputId": "708aac57-0360-4dfa-d17a-3bd0e7751cdf"
      },
      "execution_count": 51,
      "outputs": [
        {
          "output_type": "stream",
          "name": "stdout",
          "text": [
            "Seasonal Aggregated Data:\n",
            "   season      temp        RH      wind     rain      area\n",
            "0    fall  0.552080  0.321777  0.350532  0.00000  2.920517\n",
            "1  spring  0.344855  0.317831  0.501215  0.03125  0.298130\n",
            "2  summer  0.625010  0.358670  0.403333  1.71875  2.619270\n",
            "3  winter  0.182243  0.445161  0.485663  0.00000  0.224972\n"
          ]
        }
      ]
    },
    {
      "cell_type": "markdown",
      "source": [
        "##Data Reconciliation\n",
        "\n",
        "Reconciling data assures us that data is consistent and all discrepancies are resolved. We can do that by checking for outliers in different columns, such as area here.\n",
        "\n",
        "\n"
      ],
      "metadata": {
        "id": "MAH88jH55u_O"
      }
    },
    {
      "cell_type": "code",
      "source": [
        "#Checking for outliers in 'area' column\n",
        "outliers = df[df['area'] > df['area'].quantile(.95)]"
      ],
      "metadata": {
        "id": "PpK6bSQrCBMu"
      },
      "execution_count": 52,
      "outputs": []
    },
    {
      "cell_type": "code",
      "source": [
        "# Display outliers\n",
        "print(\"Outliers in 'area' column:\")\n",
        "print(outliers.head())"
      ],
      "metadata": {
        "colab": {
          "base_uri": "https://localhost:8080/"
        },
        "id": "EQveo1LuCz8m",
        "outputId": "4fda5dff-8de2-495f-dec0-d3095747e182"
      },
      "execution_count": 53,
      "outputs": [
        {
          "output_type": "stream",
          "name": "stdout",
          "text": [
            "Outliers in 'area' column:\n",
            "     X  Y month  day  FFMC    DMC     DC   ISI      temp        RH      wind  \\\n",
            "223  7  5   oct  mon  91.7   48.5  696.1  11.1  0.446945  0.341176  0.400000   \n",
            "224  8  6   aug  sat  92.2   81.8  480.8  11.9  0.575563  0.223529  0.455556   \n",
            "225  4  6   sep  sun  93.5  149.3  728.6   8.1  0.839228  0.129412  0.300000   \n",
            "226  8  6   aug  sat  92.2   81.8  480.8  11.9  0.456592  0.329412  0.400000   \n",
            "227  4  4   sep  wed  92.9  133.3  699.6   9.2  0.778135  0.070588  0.455556   \n",
            "\n",
            "     rain      area  month_num  day_num  season            FDI  \\\n",
            "223   0.0  0.045288         10        1    fall   27890.720225   \n",
            "224   0.0  0.053447          8        6  summer   30472.053513   \n",
            "225   0.0  0.058764          9        7    fall  125567.013951   \n",
            "226   0.0  0.065365          8        6  summer   30472.053513   \n",
            "227   0.0  0.081133          9        3    fall   94168.973609   \n",
            "\n",
            "     temp_wind_interaction  log_area  \n",
            "223               0.178778  0.044292  \n",
            "224               0.262201  0.052068  \n",
            "225               0.251768  0.057102  \n",
            "226               0.182637  0.063317  \n",
            "227               0.354484  0.078010  \n"
          ]
        }
      ]
    },
    {
      "cell_type": "markdown",
      "source": [
        "Judging by this data and taking all of the columns into consideration, we can analyze the data more thoroughly. For instance, this data suggests that fires occur more during fall and summer. High values of FFMC, DMC, DC, and ISI are associated with these outliers, suggesting extreme dryness and high fire spread potential."
      ],
      "metadata": {
        "id": "LQ3hJL1aDDuf"
      }
    },
    {
      "cell_type": "markdown",
      "source": [
        "# Hadoop MapReduce Implementation\n",
        "\n"
      ],
      "metadata": {
        "id": "IfaFmGZWH41K"
      }
    },
    {
      "cell_type": "code",
      "source": [
        "# Pseudocode for MapReduce Join Operation\n",
        "def map_function(record):\n",
        "    yield (record['X'], record['Y'], record['month']), record\n",
        "\n",
        "def reduce_function(key, values):\n",
        "    total_area = sum(value['area'] for value in values)\n",
        "    count = len(values)\n",
        "    yield key, {'average_area': total_area / count, 'count': count}"
      ],
      "metadata": {
        "id": "rDlqMQwXHzwi"
      },
      "execution_count": 54,
      "outputs": []
    },
    {
      "cell_type": "markdown",
      "source": [
        "---\n",
        "\n",
        "# Apache Spark Implementation\n",
        "\n",
        "\n",
        "\n"
      ],
      "metadata": {
        "id": "-KxqQOr6EC0U"
      }
    },
    {
      "cell_type": "code",
      "source": [
        "import os\n",
        "os.environ['JAVA_HOME'] = '/Library/Java/JavaVirtualMachines/jdk-interim. update. patch. jdk/Contents/Home'\n"
      ],
      "metadata": {
        "id": "Fp7YEAtBPuwy"
      },
      "execution_count": 55,
      "outputs": []
    },
    {
      "cell_type": "code",
      "source": [
        "#initialising Spark session + loading dataset\n",
        "spark = SparkSession.builder.appName('ForestFiresAnalysis').getOrCreate()\n",
        "df = spark.read.csv('processed_forestfires.csv', header=True, inferSchema=True)"
      ],
      "metadata": {
        "id": "HIXtrXsKRzNi"
      },
      "execution_count": 56,
      "outputs": []
    },
    {
      "cell_type": "code",
      "source": [
        "# data transformation\n",
        "df = df.withColumnRenamed(\"area\", \"burned_area\")\n",
        "df_filtered = df.filter(df.burned_area > 0)"
      ],
      "metadata": {
        "id": "LTbJa8dbR-pR"
      },
      "execution_count": 57,
      "outputs": []
    },
    {
      "cell_type": "code",
      "source": [
        "#Training component for making prediction using input data\n",
        "assembler = VectorAssembler(inputCols=['temp', 'RH', 'wind', 'rain'], outputCol='features')\n",
        "data = assembler.transform(df_filtered)\n",
        "train_data, test_data = data.randomSplit([0.7, 0.3])\n",
        "lr = LinearRegression(labelCol='burned_area')\n",
        "model = lr.fit(train_data)\n",
        "predictions = model.transform(test_data)\n",
        "print(\"Coefficients: \" + str(model.coefficients))\n",
        "print(\"Intercept: \" + str(model.intercept))\n",
        "print(\"Initial Data:\")\n",
        "df_filtered.show()\n",
        "print(\"Predictions:\")\n",
        "predictions.show()"
      ],
      "metadata": {
        "colab": {
          "base_uri": "https://localhost:8080/"
        },
        "id": "R1xufIwBSLON",
        "outputId": "6fe6a553-434f-4a90-ca93-29dbe2a072b9"
      },
      "execution_count": 58,
      "outputs": [
        {
          "output_type": "stream",
          "name": "stdout",
          "text": [
            "Coefficients: [0.05170656961786088,-0.03183783780702247,0.02527749955885276,-0.12472961057932275]\n",
            "Intercept: -0.0013679758363168983\n",
            "Initial Data:\n",
            "+---+---+-----+---+----+-----+-----+----+-------------------+-------------------+-------------------+----+--------------------+---------+-------+------+------------------+---------------------+--------------------+\n",
            "|  X|  Y|month|day|FFMC|  DMC|   DC| ISI|               temp|                 RH|               wind|rain|         burned_area|month_num|day_num|season|               FDI|temp_wind_interaction|            log_area|\n",
            "+---+---+-----+---+----+-----+-----+----+-------------------+-------------------+-------------------+----+--------------------+---------+-------+------+------------------+---------------------+--------------------+\n",
            "|  9|  9|  jul|tue|85.8| 48.3|313.4| 3.9| 0.5080385852090032|0.31764705882352945|0.25555555555555554| 0.0|3.667033370003667...|        7|      2|summer|         33301.884|  0.12983208288674528|3.666361177641113E-4|\n",
            "|  1|  4|  sep|tue|91.0|129.5|692.6| 7.0|  0.627009646302251|0.27058823529411763|                0.2| 0.0|3.667033370003667...|        9|      2|  fall|         116599.21|   0.1254019292604502|3.666361177641113E-4|\n",
            "|  2|  5|  sep|mon|90.9|126.5|686.5| 7.0| 0.6334405144694535| 0.2823529411764706|0.15555555555555553| 0.0|4.583791712504584E-4|        9|      1|  fall|112770.86464285715|  0.09853519113969275|4.582741476106892...|\n",
            "|  1|  2|  aug|wed|95.5| 99.9|513.3|13.2| 0.6784565916398715|0.18823529411764706|0.45555555555555555| 0.0|  5.5005500550055E-4|        8|      3|summer| 37099.34079545455|   0.3090746695248303|5.499037806982096E-4|\n",
            "|  8|  6|  aug|fri|90.1|108.0|529.8|12.5| 0.6109324758842445| 0.4235294117647059| 0.9444444444444445| 0.0|  5.5005500550055E-4|        8|      5|summer| 41243.02271999999|   0.5769917827795643|5.499037806982096E-4|\n",
            "|  1|  2|  jul|sat|90.0| 51.3|296.3| 8.7| 0.4630225080385853| 0.4470588235294118| 0.5555555555555556| 0.0|6.417308397506417E-4|        7|      6|summer|15724.334482758622|  0.25723472668810293|6.415250185650934E-4|\n",
            "|  2|  5|  aug|wed|95.5| 99.9|513.3|13.2|  0.694533762057878|                0.2| 0.5555555555555556| 0.0|7.334066740007335E-4|        8|      3|summer| 37099.34079545455|   0.3858520900321544|7.331378627500045E-4|\n",
            "|  6|  5|  aug|thu|95.2|131.7|578.8|10.4| 0.8102893890675242|0.08235294117647057|0.39999999999999997| 0.0|8.250825082508251E-4|        8|      4|summer| 69777.90184615384|  0.32411575562700967|8.247423147902964E-4|\n",
            "|  5|  4|  mar|mon|90.1| 39.7| 86.6| 6.2| 0.3536977491961415|0.29411764705882354| 0.5555555555555556| 0.0|9.167583425009168E-4|        3|      1|spring| 4996.219387096774|  0.19649874955341196|9.163383762237876E-4|\n",
            "|  8|  3|  sep|tue|84.4| 73.4|671.9| 3.2|  0.707395498392283|0.15294117647058825| 0.3555555555555555| 0.0|9.167583425009168E-4|        9|      2|  fall|130074.80075000001|  0.25151839942836723|9.163383762237876E-4|\n",
            "|  2|  2|  aug|tue|94.8|108.3|647.1|17.0|0.48874598070739556|0.32941176470588235| 0.7000000000000001| 0.0|0.001008434176751...|        8|      2|summer|39080.424494117644|   0.3421221864951769|0.001007926048587...|\n",
            "|  8|  6|  sep|thu|93.7| 80.9|685.2|17.9| 0.6913183279742765|0.11764705882352944|0.45555555555555555| 0.0|0.001008434176751...|        9|      4|  fall|29016.995061452522|   0.3149339049660593|0.001007926048587...|\n",
            "|  6|  5|  jun|fri|92.5| 56.4|433.3| 7.1| 0.6752411575562702| 0.2823529411764706| 0.5555555555555556| 0.0|  0.0011001100110011|        6|      5|summer|31838.395774647888|   0.3751339764201502|0.001099505333416...|\n",
            "|  9|  9|  jul|sun|90.1| 68.6|355.2| 7.2| 0.7266881028938907| 0.1647058823529412|                0.2| 0.0|0.001283461679501...|        7|      7|summer| 30492.24266666666|  0.14533762057877816|0.001282638746619...|\n",
            "|  3|  4|  jul|sat|90.1| 51.2|424.1| 6.2| 0.7202572347266882|0.32941176470588235|0.15555555555555553| 0.0|0.001283461679501...|        7|      6|summer| 31555.22890322581|  0.11204001429081815|0.001282638746619...|\n",
            "|  5|  4|  sep|fri|94.3| 85.1|692.3|15.9| 0.5755627009646302|0.37647058823529417| 0.5000000000000001| 0.0|0.001375137513751...|        9|      5|  fall| 34941.25181761006|   0.2877813504823152|0.001374192878064...|\n",
            "|  1|  5|  sep|sat|93.4|145.4|721.4| 8.1| 0.8810289389067525| 0.1411764705882353|0.25555555555555554| 0.0|0.001375137513751...|        9|      6|  fall|120949.03338271605|  0.22515183994283672|0.001374192878064...|\n",
            "|  7|  4|  aug|sun|94.8|108.3|647.1|17.0| 0.4565916398713827|0.37647058823529417|0.09999999999999998| 0.0|0.001466813348001467|        8|      7|summer|39080.424494117644| 0.045659163987138256|0.001465738628116...|\n",
            "|  2|  4|  sep|sat|93.4|145.4|721.4| 8.1| 0.8488745980707397| 0.1411764705882353|                0.2| 0.0|0.001466813348001467|        9|      6|  fall|120949.03338271605|  0.16977491961414795|0.001465738628116...|\n",
            "|  2|  2|  aug|wed|92.1|111.2|654.1| 9.6| 0.5209003215434085|0.35294117647058826| 0.3555555555555555| 0.0|0.001466813348001467|        8|      3|summer| 69781.02325000001|   0.1852090032154341|0.001465738628116...|\n",
            "+---+---+-----+---+----+-----+-----+----+-------------------+-------------------+-------------------+----+--------------------+---------+-------+------+------------------+---------------------+--------------------+\n",
            "only showing top 20 rows\n",
            "\n",
            "Predictions:\n",
            "+---+---+-----+---+----+-----+-----+----+-------------------+-------------------+-------------------+----+--------------------+---------+-------+------+------------------+---------------------+--------------------+--------------------+--------------------+\n",
            "|  X|  Y|month|day|FFMC|  DMC|   DC| ISI|               temp|                 RH|               wind|rain|         burned_area|month_num|day_num|season|               FDI|temp_wind_interaction|            log_area|            features|          prediction|\n",
            "+---+---+-----+---+----+-----+-----+----+-------------------+-------------------+-------------------+----+--------------------+---------+-------+------+------------------+---------------------+--------------------+--------------------+--------------------+\n",
            "|  1|  3|  sep|sat|91.2| 94.3|744.4| 8.4| 0.6463022508038587|0.38823529411764707|0.39999999999999997| 0.0|6.417308397506417E-4|        9|      6|  fall| 76213.79885714284|  0.25852090032154346|6.415250185650934E-4|[0.64630225080385...|  0.0298005239875148|\n",
            "|  1|  3|  sep|sun|92.4|124.1|680.7| 8.5| 0.6977491961414792|                0.2| 0.7000000000000001| 0.0|0.004858819215254...|        9|      7|  fall| 91829.15280000001|   0.4884244372990355|0.004847053250244161|[0.69774919614147...|0.046036923679571407|\n",
            "|  1|  4|  sep|sun|91.0|276.3|825.1| 7.1|0.39549839228295824| 0.7176470588235293| 0.7999999999999999| 0.0|0.003392005867253...|        9|      7|  fall| 292193.4764788732|   0.3163987138263666|0.003386265991484...|[0.39549839228295...|0.016455558303585905|\n",
            "|  1|  4|  sep|tue|91.0|129.5|692.6| 7.0|  0.627009646302251|0.27058823529411763|                0.2| 0.0|3.667033370003667...|        9|      2|  fall|         116599.21|   0.1254019292604502|3.666361177641113E-4|[0.62700964630225...| 0.02749309765526877|\n",
            "|  1|  5|  sep|sat|93.4|145.4|721.4| 8.1| 0.8810289389067525| 0.1411764705882353|0.25555555555555554| 0.0|0.001375137513751...|        9|      6|  fall|120949.03338271605|  0.22515183994283672|0.001374192878064...|[0.88102893890675...|0.046152060198677014|\n",
            "|  1|  5|  sep|tue|91.0|129.5|692.6| 7.0| 0.6237942122186497|0.21176470588235297|                0.2| 0.0|0.010542720938760543|        9|      2|  fall|         116599.21|  0.12475884244372995|0.010487533997836291|[0.62379421221864...|0.029199652577621776|\n",
            "|  2|  2|  aug|sat|93.5|139.4|594.2|20.3| 0.6655948553054662|0.18823529411764706| 0.7555555555555555| 0.0|0.014118078474514118|        8|      6|summer| 38151.44522167488|   0.5028938906752412| 0.01401934658914414|[0.66559485530546...| 0.04615320134539472|\n",
            "|  2|  2|  aug|sat|93.7|231.1|715.1| 8.4| 0.6334405144694535|0.31764705882352945|                0.2| 0.0| 0.16006600660066006|        8|      6|summer|184343.16020238097|   0.1266881028938907| 0.14847690574135045|[0.63344051446945...|0.026327364596940808|\n",
            "|  2|  2|  aug|wed|92.1|111.2|654.1| 9.6| 0.5209003215434085|0.35294117647058826| 0.3555555555555555| 0.0|0.001466813348001467|        8|      3|summer| 69781.02325000001|   0.1852090032154341|0.001465738628116...|[0.52090032154340...|0.023316664370346386|\n",
            "|  2|  4|  aug|fri|91.6|112.4|573.0| 8.9|  0.617363344051447|0.31764705882352945|                0.3| 0.0|0.003850385038503...|        8|      5|summer|  66286.7002247191|   0.1852090032154341|0.003842991279167763|[0.61736334405144...|0.028023819221349222|\n",
            "|  2|  4|  aug|mon|93.6| 97.9|542.0|14.4| 0.8392282958199357|                0.2|0.39999999999999997| 0.0|0.008067473414008068|        8|      1|summer|34490.170000000006|   0.3356913183279743|0.008035105319657163|[0.83922829581993...|0.045769072728911966|\n",
            "|  2|  4|  sep|mon|91.6|108.4|764.0| 6.2| 0.5852090032154342| 0.3058823529411765|0.15555555555555553| 0.0|0.001375137513751...|        9|      1|  fall|122356.32516129033|  0.09103251161128975|0.001374192878064...|[0.58520900321543...|0.023084596975401994|\n",
            "|  2|  5|  aug|fri|93.9|135.7|586.7|15.1|  0.684887459807074|0.24705882352941178| 0.5555555555555556| 0.0|0.009167583425009168|        8|      5|summer| 49509.04861589404|  0.38049303322615224|0.009125816207645706|[0.68488745980707...| 0.04022244184274803|\n",
            "|  2|  5|  aug|tue|92.1|152.6|658.2|14.3| 0.5787781350482315|0.37647058823529417|0.39999999999999997| 0.0|0.002841950861752842|        8|      2|summer| 64689.82917482518|   0.2315112540192926|0.002837920154311583|[0.57877813504823...| 0.02668364639304164|\n",
            "|  2|  5|  aug|wed|95.5| 99.9|513.3|13.2|  0.694533762057878|                0.2| 0.5555555555555556| 0.0|7.334066740007335E-4|        8|      3|summer| 37099.34079545455|   0.3858520900321544|7.331378627500045E-4|[0.69453376205787...| 0.04221947023255286|\n",
            "|  2|  5|  sep|fri|90.3|290.0|855.3| 7.4|0.45016077170418006| 0.5058823529411764| 0.3555555555555555| 0.0|0.009167583425009168|        9|      5|  fall|  302672.177027027|  0.16005716327259734|0.009125816207645706|[0.45016077170418...|0.014789648541362398|\n",
            "|  3|  4|  aug|sun|91.6|181.3|613.0| 7.6| 0.7202572347266882|0.34117647058823525|0.39999999999999997| 0.0|0.002933626696002934|        8|      7|summer|133949.21105263158|   0.2881028938906753|0.002929332010493066|[0.72025723472668...| 0.03512273370322707|\n",
            "|  3|  4|  aug|tue|96.1|181.1|671.2|14.3| 0.9678456591639872| 0.1411764705882353|                0.2| 0.0|0.013476347634763476|        8|      2|summer| 81687.90316083917|  0.19356913183279745|0.013386349326067514|[0.96784565916398...| 0.04923674945760471|\n",
            "|  3|  4|  dec|mon|85.4| 25.4|349.7| 2.6|0.07717041800643087|0.07058823529411767|                0.9| 0.0|0.009809314264759809|       12|      1|winter|29175.201999999997|  0.06945337620578779|0.009761515270964274|[0.07717041800643...|0.023124614571361474|\n",
            "|  3|  4|  sep|sun|90.5| 96.7|750.5|11.4| 0.5916398713826367| 0.4705882352941177| 0.5555555555555556| 0.0|0.022552255225522556|        9|      7|  fall| 57613.05416666667|   0.3286888174347982| 0.02230171298401994|[0.59163987138263...| 0.02828423576331838|\n",
            "+---+---+-----+---+----+-----+-----+----+-------------------+-------------------+-------------------+----+--------------------+---------+-------+------+------------------+---------------------+--------------------+--------------------+--------------------+\n",
            "only showing top 20 rows\n",
            "\n"
          ]
        }
      ]
    },
    {
      "cell_type": "code",
      "source": [
        "#Extracting actual and predicted data\n",
        "actual_burned_area = test_data.select('burned_area').toPandas()\n",
        "predicted_burned_area = predictions.select('prediction').toPandas()"
      ],
      "metadata": {
        "id": "AL4BnHkSVIWT"
      },
      "execution_count": 62,
      "outputs": []
    },
    {
      "cell_type": "code",
      "source": [
        "# Creating a new pandas dataframe for newnly extracted values\n",
        "pandas_df = pd.DataFrame({\n",
        "    'actual_burned_area': actual_burned_area['burned_area'],\n",
        "    'predicted_burned_area': predicted_burned_area['prediction']\n",
        "})\n",
        "\n",
        "pandas_df.to_csv('fire_predictions.csv', index=False)\n",
        "print(\"Prediction dataset saved successfully.\")"
      ],
      "metadata": {
        "colab": {
          "base_uri": "https://localhost:8080/"
        },
        "id": "GwP7ZXL6Vz5f",
        "outputId": "bcd866e9-1fa5-4313-e622-8a8d1e69344b"
      },
      "execution_count": 68,
      "outputs": [
        {
          "output_type": "stream",
          "name": "stdout",
          "text": [
            "Prediction dataset saved successfully.\n"
          ]
        }
      ]
    },
    {
      "cell_type": "markdown",
      "metadata": {
        "id": "G3FvcbG4zMCb"
      },
      "source": [
        "# Visualisation"
      ]
    },
    {
      "cell_type": "code",
      "source": [
        "#reading the new file\n",
        "file_path = 'fire_predictions.csv'  # Replace with your file path\n",
        "df = pd.read_csv('fire_predictions.csv')"
      ],
      "metadata": {
        "id": "pwDi3aukWXJO"
      },
      "execution_count": null,
      "outputs": []
    },
    {
      "cell_type": "code",
      "source": [
        "# Plotting actual vs predicted burned area\n",
        "plt.figure(figsize=(10, 6))\n",
        "plt.plot(df.index, df['actual_burned_area'], marker='.', linestyle='-', color='b', label='Actual Burned Area')\n",
        "plt.plot(df.index, df['predicted_burned_area'], marker='o', linestyle='--', color='r', label='Predicted Burned Area')\n",
        "plt.title('Actual vs Predicted Burned Area')\n",
        "plt.xlabel('Data Points')\n",
        "plt.ylabel('Burned Area')\n",
        "plt.xticks(df.index)\n",
        "plt.legend()\n",
        "plt.grid(True)\n",
        "plt.tight_layout()\n",
        "\n",
        "plt.show()"
      ],
      "metadata": {
        "colab": {
          "base_uri": "https://localhost:8080/",
          "height": 607
        },
        "id": "I5M8f34gWZQJ",
        "outputId": "5f55c1fb-16a8-4dc5-ec6e-5746906a7908"
      },
      "execution_count": 78,
      "outputs": [
        {
          "output_type": "display_data",
          "data": {
            "text/plain": [
              "<Figure size 1000x600 with 1 Axes>"
            ],
            "image/png": "[encoded data removed]"
          },
          "metadata": {}
        }
      ]
    },
    {
      "cell_type": "markdown",
      "source": [
        "#Evaluation\n",
        "\n",
        "1. the quality of the assessment does not seem to be as high as would be expected. Unfortunately, the trained prediction model seems to follow a rather linear trend, whereas the original data of actual burned area is visibly more seasonal. The intensity of actual area burned also fluctuates steadily and the prediction does not."
      ],
      "metadata": {
        "id": "JfwyCtOLYxjt"
      }
    }
  ],
  "metadata": {
    "colab": {
      "provenance": [],
      "toc_visible": true
    },
    "kernelspec": {
      "display_name": "Python 3",
      "name": "python3"
    },
    "language_info": {
      "name": "python"
    }
  },
  "nbformat": 4,
  "nbformat_minor": 0
}